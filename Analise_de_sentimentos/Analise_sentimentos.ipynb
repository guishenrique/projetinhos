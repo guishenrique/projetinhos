{
 "cells": [
  {
   "cell_type": "markdown",
   "metadata": {},
   "source": [
    "# Analise de sentimentos de tweets em português utilizando o Watson Natural Language Understanding <br>\n",
    "Lembrando que você pode utilizar a API do twitter e o Watson Natural Language Understanding de forma gratuita, porém com algumas limitações."
   ]
  },
  {
   "cell_type": "code",
   "execution_count": 1,
   "metadata": {
    "collapsed": true
   },
   "outputs": [],
   "source": [
    "import os\n",
    "from dotenv import load_dotenv\n",
    "import tweepy as tw\n",
    "import pandas as pd\n",
    "\n",
    "from ibm_watson import NaturalLanguageUnderstandingV1\n",
    "from ibm_cloud_sdk_core.authenticators import IAMAuthenticator\n",
    "from ibm_watson.natural_language_understanding_v1 import Features, SentimentOptions\n",
    "import re"
   ]
  },
  {
   "cell_type": "code",
   "execution_count": 2,
   "metadata": {
    "collapsed": false,
    "pycharm": {
     "name": "#%%\n"
    }
   },
   "outputs": [],
   "source": [
    "pd.set_option('display.max_colwidth', 240)"
   ]
  },
  {
   "cell_type": "markdown",
   "metadata": {},
   "source": [
    "# Parte 1 - Usando a API do twitter"
   ]
  },
  {
   "cell_type": "markdown",
   "metadata": {},
   "source": [
    "Carregando as informações de autenticação"
   ]
  },
  {
   "cell_type": "code",
   "execution_count": 3,
   "metadata": {
    "collapsed": false,
    "pycharm": {
     "name": "#%%\n"
    }
   },
   "outputs": [],
   "source": [
    "load_dotenv()\n",
    "api_key = os.getenv(\"CONSUMER_KEY\")\n",
    "api_key_secret = os.getenv(\"CONSUMER_KEY_SECRET\")\n",
    "access_token = os.getenv(\"ACCESS_TOKEN\")\n",
    "access_token_secret = os.getenv(\"ACCESS_TOKEN_SECRET\")"
   ]
  },
  {
   "cell_type": "markdown",
   "metadata": {},
   "source": [
    "Autenticando"
   ]
  },
  {
   "cell_type": "code",
   "execution_count": 4,
   "metadata": {
    "collapsed": false,
    "pycharm": {
     "name": "#%%\n"
    }
   },
   "outputs": [],
   "source": [
    "auth = tw.OAuthHandler(api_key,api_key_secret)\n",
    "auth.set_access_token(access_token,access_token_secret)\n",
    "#api = tw.API(auth, wait_on_rate_limit=True)\n",
    "api = tw.API(auth)"
   ]
  },
  {
   "cell_type": "markdown",
   "metadata": {},
   "source": [
    "Procurando tweets com a palavra BBB e que não sejam retweets e buscando por tweets recentes. <br>\n",
    "Trouxe apenas 10 tweets para poder utiliza-los no Watson Natural Language Understanding."
   ]
  },
  {
   "cell_type": "code",
   "execution_count": 22,
   "metadata": {
    "collapsed": false,
    "pycharm": {
     "name": "#%%\n"
    }
   },
   "outputs": [],
   "source": [
    "search_words = \"BBB\" + \"-filter:retweets\"\n",
    "tweets = tw.Cursor(api.search_tweets,result_type=\"recent\", q=search_words).items(10)"
   ]
  },
  {
   "cell_type": "markdown",
   "metadata": {},
   "source": [
    "Percorrendo pelo objeto do tweetpy e salvando as informações em uma lista e depois gerando um dataframe com esses dados"
   ]
  },
  {
   "cell_type": "code",
   "execution_count": 24,
   "metadata": {
    "collapsed": false,
    "pycharm": {
     "name": "#%%\n"
    }
   },
   "outputs": [],
   "source": [
    "lst_text = []\n",
    "lst_data = []\n",
    "for tweet in tweets:\n",
    "    lst_data.append(tweet.created_at)\n",
    "    lst_text.append(tweet.text)"
   ]
  },
  {
   "cell_type": "code",
   "execution_count": 25,
   "metadata": {
    "collapsed": false,
    "pycharm": {
     "name": "#%%\n"
    }
   },
   "outputs": [],
   "source": [
    "df_tweets = pd.DataFrame({\"Texto\":lst_text, \"Data\":lst_data})"
   ]
  },
  {
   "cell_type": "markdown",
   "metadata": {},
   "source": [
    "Aqui está os últimos tweets sobre BBB"
   ]
  },
  {
   "cell_type": "code",
   "execution_count": 26,
   "metadata": {
    "collapsed": false,
    "pycharm": {
     "name": "#%%\n"
    }
   },
   "outputs": [
    {
     "data": {
      "text/html": [
       "<div>\n",
       "<style scoped>\n",
       "    .dataframe tbody tr th:only-of-type {\n",
       "        vertical-align: middle;\n",
       "    }\n",
       "\n",
       "    .dataframe tbody tr th {\n",
       "        vertical-align: top;\n",
       "    }\n",
       "\n",
       "    .dataframe thead th {\n",
       "        text-align: right;\n",
       "    }\n",
       "</style>\n",
       "<table border=\"1\" class=\"dataframe\">\n",
       "  <thead>\n",
       "    <tr style=\"text-align: right;\">\n",
       "      <th></th>\n",
       "      <th>Texto</th>\n",
       "      <th>Data</th>\n",
       "    </tr>\n",
       "  </thead>\n",
       "  <tbody>\n",
       "    <tr>\n",
       "      <th>0</th>\n",
       "      <td>nas festas do BBB os marmanjo tudo vira adolescente kkkkkkkkkkkkk</td>\n",
       "      <td>2022-01-24 02:22:32+00:00</td>\n",
       "    </tr>\n",
       "    <tr>\n",
       "      <th>1</th>\n",
       "      <td>gente Lucas nem aparece nesse bbb né</td>\n",
       "      <td>2022-01-24 02:22:32+00:00</td>\n",
       "    </tr>\n",
       "    <tr>\n",
       "      <th>2</th>\n",
       "      <td>A Bruna consegue ser mais metida que a Jade #bbb #bbb2022</td>\n",
       "      <td>2022-01-24 02:22:32+00:00</td>\n",
       "    </tr>\n",
       "    <tr>\n",
       "      <th>3</th>\n",
       "      <td>Edição do bbb mostrando na cara do brasileiro o quanto Rodrigo é chato e INCOVENIENTE #bbb2022</td>\n",
       "      <td>2022-01-24 02:22:32+00:00</td>\n",
       "    </tr>\n",
       "    <tr>\n",
       "      <th>4</th>\n",
       "      <td>Gente, só queria me alienar!\\nBbb tá chato para caralho</td>\n",
       "      <td>2022-01-24 02:22:32+00:00</td>\n",
       "    </tr>\n",
       "    <tr>\n",
       "      <th>5</th>\n",
       "      <td>#BBB22 AO VIVO BBB https://t.co/EEoFCrBvTu</td>\n",
       "      <td>2022-01-24 02:22:32+00:00</td>\n",
       "    </tr>\n",
       "    <tr>\n",
       "      <th>6</th>\n",
       "      <td>rapaz, bbb me parece tanto festinha de adolescente</td>\n",
       "      <td>2022-01-24 02:22:31+00:00</td>\n",
       "    </tr>\n",
       "    <tr>\n",
       "      <th>7</th>\n",
       "      <td>Esse ano o campeão do bbb não sai da pipoca nem fudendo, pessoal mó sem carisma #BBB22</td>\n",
       "      <td>2022-01-24 02:22:31+00:00</td>\n",
       "    </tr>\n",
       "    <tr>\n",
       "      <th>8</th>\n",
       "      <td>A narrativa do BBB é sempre a mesma ultimamente. Os brancos nojentos de classe média alta, se unem contra os negros… https://t.co/uqQHJerBhb</td>\n",
       "      <td>2022-01-24 02:22:31+00:00</td>\n",
       "    </tr>\n",
       "    <tr>\n",
       "      <th>9</th>\n",
       "      <td>Retiro o que eu disse no 1° dia de BBB 😕</td>\n",
       "      <td>2022-01-24 02:22:31+00:00</td>\n",
       "    </tr>\n",
       "  </tbody>\n",
       "</table>\n",
       "</div>"
      ],
      "text/plain": [
       "                                                                                                                                          Texto  \\\n",
       "0                                                                             nas festas do BBB os marmanjo tudo vira adolescente kkkkkkkkkkkkk   \n",
       "1                                                                                                          gente Lucas nem aparece nesse bbb né   \n",
       "2                                                                                     A Bruna consegue ser mais metida que a Jade #bbb #bbb2022   \n",
       "3                                                Edição do bbb mostrando na cara do brasileiro o quanto Rodrigo é chato e INCOVENIENTE #bbb2022   \n",
       "4                                                                                       Gente, só queria me alienar!\\nBbb tá chato para caralho   \n",
       "5                                                                                                    #BBB22 AO VIVO BBB https://t.co/EEoFCrBvTu   \n",
       "6                                                                                            rapaz, bbb me parece tanto festinha de adolescente   \n",
       "7                                                        Esse ano o campeão do bbb não sai da pipoca nem fudendo, pessoal mó sem carisma #BBB22   \n",
       "8  A narrativa do BBB é sempre a mesma ultimamente. Os brancos nojentos de classe média alta, se unem contra os negros… https://t.co/uqQHJerBhb   \n",
       "9                                                                                                      Retiro o que eu disse no 1° dia de BBB 😕   \n",
       "\n",
       "                       Data  \n",
       "0 2022-01-24 02:22:32+00:00  \n",
       "1 2022-01-24 02:22:32+00:00  \n",
       "2 2022-01-24 02:22:32+00:00  \n",
       "3 2022-01-24 02:22:32+00:00  \n",
       "4 2022-01-24 02:22:32+00:00  \n",
       "5 2022-01-24 02:22:32+00:00  \n",
       "6 2022-01-24 02:22:31+00:00  \n",
       "7 2022-01-24 02:22:31+00:00  \n",
       "8 2022-01-24 02:22:31+00:00  \n",
       "9 2022-01-24 02:22:31+00:00  "
      ]
     },
     "execution_count": 26,
     "metadata": {},
     "output_type": "execute_result"
    }
   ],
   "source": [
    "df_tweets.head(20)"
   ]
  },
  {
   "cell_type": "markdown",
   "metadata": {},
   "source": [
    "# Parte 2 Utilizando o Watson Natural Language Understanding"
   ]
  },
  {
   "cell_type": "markdown",
   "metadata": {},
   "source": [
    "Carregandos as informações de autenticação e autenticando"
   ]
  },
  {
   "cell_type": "code",
   "execution_count": 17,
   "metadata": {
    "collapsed": false,
    "pycharm": {
     "name": "#%%\n"
    }
   },
   "outputs": [],
   "source": [
    "NLU_key = os.getenv(\"NLU_KEY\")\n",
    "NLU_url = os.getenv(\"NLU_URL\")"
   ]
  },
  {
   "cell_type": "code",
   "execution_count": 18,
   "metadata": {
    "collapsed": false,
    "pycharm": {
     "name": "#%%\n"
    }
   },
   "outputs": [],
   "source": [
    "authenticator = IAMAuthenticator(NLU_key)\n",
    "natural_language_understanding = NaturalLanguageUnderstandingV1(\n",
    "    version='2021-08-01',\n",
    "    authenticator=authenticator\n",
    ")\n",
    "natural_language_understanding.set_service_url(NLU_url)"
   ]
  },
  {
   "cell_type": "markdown",
   "metadata": {},
   "source": [
    "Função trazer o resultado da analise"
   ]
  },
  {
   "cell_type": "code",
   "execution_count": 19,
   "metadata": {
    "collapsed": false,
    "pycharm": {
     "name": "#%%\n"
    }
   },
   "outputs": [],
   "source": [
    "def analise_sentimento(row):\n",
    "    response = natural_language_understanding.analyze(\n",
    "        text=row[\"Texto\"],\n",
    "        features=Features(sentiment=SentimentOptions(targets=['BBB'])),\n",
    "        language=\"pt\").get_result()\n",
    "    row[\"Documento Score\"] = response[\"sentiment\"][\"document\"][\"score\"]\n",
    "    row[\"Documento Label\"] = response[\"sentiment\"][\"document\"][\"label\"]\n",
    "    row[\"Score\"] = response[\"sentiment\"][\"targets\"][0][\"score\"]\n",
    "    row[\"Label\"] = response[\"sentiment\"][\"targets\"][0][\"label\"]\n",
    "    return row"
   ]
  },
  {
   "cell_type": "code",
   "execution_count": 20,
   "metadata": {
    "collapsed": false,
    "pycharm": {
     "name": "#%%\n"
    }
   },
   "outputs": [],
   "source": [
    "df_analise = df_tweets.apply(analise_sentimento, axis=1)"
   ]
  },
  {
   "cell_type": "code",
   "execution_count": 21,
   "metadata": {
    "collapsed": false,
    "pycharm": {
     "name": "#%%\n"
    }
   },
   "outputs": [
    {
     "data": {
      "text/html": [
       "<div>\n",
       "<style scoped>\n",
       "    .dataframe tbody tr th:only-of-type {\n",
       "        vertical-align: middle;\n",
       "    }\n",
       "\n",
       "    .dataframe tbody tr th {\n",
       "        vertical-align: top;\n",
       "    }\n",
       "\n",
       "    .dataframe thead th {\n",
       "        text-align: right;\n",
       "    }\n",
       "</style>\n",
       "<table border=\"1\" class=\"dataframe\">\n",
       "  <thead>\n",
       "    <tr style=\"text-align: right;\">\n",
       "      <th></th>\n",
       "      <th>Texto</th>\n",
       "      <th>Data</th>\n",
       "      <th>Documento Score</th>\n",
       "      <th>Documento Label</th>\n",
       "      <th>Score</th>\n",
       "      <th>Label</th>\n",
       "    </tr>\n",
       "  </thead>\n",
       "  <tbody>\n",
       "    <tr>\n",
       "      <th>0</th>\n",
       "      <td>meu deus, eu ia me irritar mt no bbb pq toda festa vem um bebado insuportavel de conversinha chata</td>\n",
       "      <td>2022-01-24 02:17:40+00:00</td>\n",
       "      <td>-0.998627</td>\n",
       "      <td>negative</td>\n",
       "      <td>-0.998627</td>\n",
       "      <td>negative</td>\n",
       "    </tr>\n",
       "    <tr>\n",
       "      <th>1</th>\n",
       "      <td>imagina tu tá na festa do bbb e a pessoa chega pra falar de jogo</td>\n",
       "      <td>2022-01-24 02:17:40+00:00</td>\n",
       "      <td>0.000000</td>\n",
       "      <td>neutral</td>\n",
       "      <td>0.000000</td>\n",
       "      <td>neutral</td>\n",
       "    </tr>\n",
       "    <tr>\n",
       "      <th>2</th>\n",
       "      <td>Comi assim é difícil tá no BBB?????</td>\n",
       "      <td>2022-01-24 02:17:40+00:00</td>\n",
       "      <td>-0.903788</td>\n",
       "      <td>negative</td>\n",
       "      <td>-0.903788</td>\n",
       "      <td>negative</td>\n",
       "    </tr>\n",
       "    <tr>\n",
       "      <th>3</th>\n",
       "      <td>gente esse BBB ta tão 💤</td>\n",
       "      <td>2022-01-24 02:17:39+00:00</td>\n",
       "      <td>-0.488388</td>\n",
       "      <td>negative</td>\n",
       "      <td>-0.488388</td>\n",
       "      <td>negative</td>\n",
       "    </tr>\n",
       "    <tr>\n",
       "      <th>4</th>\n",
       "      <td>Mano o Douglas tá mt paciente isso sim. Se fosse eu já tinha mandando tomar no cú e pronto\\n\\n#BBB\\n#BBB2022\\n#BBB22</td>\n",
       "      <td>2022-01-24 02:17:39+00:00</td>\n",
       "      <td>-0.752188</td>\n",
       "      <td>negative</td>\n",
       "      <td>0.000000</td>\n",
       "      <td>neutral</td>\n",
       "    </tr>\n",
       "    <tr>\n",
       "      <th>5</th>\n",
       "      <td>@thaisbraz Thais e BBB 22</td>\n",
       "      <td>2022-01-24 02:17:39+00:00</td>\n",
       "      <td>0.532432</td>\n",
       "      <td>positive</td>\n",
       "      <td>0.532432</td>\n",
       "      <td>positive</td>\n",
       "    </tr>\n",
       "    <tr>\n",
       "      <th>6</th>\n",
       "      <td>assistir o bbb ao vivo no globo play é pedir pra irritar</td>\n",
       "      <td>2022-01-24 02:17:39+00:00</td>\n",
       "      <td>-0.961629</td>\n",
       "      <td>negative</td>\n",
       "      <td>-0.961629</td>\n",
       "      <td>negative</td>\n",
       "    </tr>\n",
       "    <tr>\n",
       "      <th>7</th>\n",
       "      <td>eu vejo td que passa na edição ao vivo tô me sentindo mt viciada em bbb</td>\n",
       "      <td>2022-01-24 02:17:39+00:00</td>\n",
       "      <td>0.388700</td>\n",
       "      <td>positive</td>\n",
       "      <td>0.388700</td>\n",
       "      <td>positive</td>\n",
       "    </tr>\n",
       "    <tr>\n",
       "      <th>8</th>\n",
       "      <td>a menina falando c o Douglas agr no BBB KAKSKAKSKAKDKAKKS</td>\n",
       "      <td>2022-01-24 02:17:39+00:00</td>\n",
       "      <td>0.000000</td>\n",
       "      <td>neutral</td>\n",
       "      <td>0.000000</td>\n",
       "      <td>neutral</td>\n",
       "    </tr>\n",
       "    <tr>\n",
       "      <th>9</th>\n",
       "      <td>Teve taylor no bbb SIM\\n🎶 Like like tuntuntun 🎶</td>\n",
       "      <td>2022-01-24 02:17:39+00:00</td>\n",
       "      <td>0.000000</td>\n",
       "      <td>neutral</td>\n",
       "      <td>0.000000</td>\n",
       "      <td>neutral</td>\n",
       "    </tr>\n",
       "  </tbody>\n",
       "</table>\n",
       "</div>"
      ],
      "text/plain": [
       "                                                                                                                  Texto  \\\n",
       "0                    meu deus, eu ia me irritar mt no bbb pq toda festa vem um bebado insuportavel de conversinha chata   \n",
       "1                                                      imagina tu tá na festa do bbb e a pessoa chega pra falar de jogo   \n",
       "2                                                                                   Comi assim é difícil tá no BBB?????   \n",
       "3                                                                                               gente esse BBB ta tão 💤   \n",
       "4  Mano o Douglas tá mt paciente isso sim. Se fosse eu já tinha mandando tomar no cú e pronto\\n\\n#BBB\\n#BBB2022\\n#BBB22   \n",
       "5                                                                                             @thaisbraz Thais e BBB 22   \n",
       "6                                                              assistir o bbb ao vivo no globo play é pedir pra irritar   \n",
       "7                                               eu vejo td que passa na edição ao vivo tô me sentindo mt viciada em bbb   \n",
       "8                                                             a menina falando c o Douglas agr no BBB KAKSKAKSKAKDKAKKS   \n",
       "9                                                                       Teve taylor no bbb SIM\\n🎶 Like like tuntuntun 🎶   \n",
       "\n",
       "                       Data  Documento Score Documento Label     Score  \\\n",
       "0 2022-01-24 02:17:40+00:00        -0.998627        negative -0.998627   \n",
       "1 2022-01-24 02:17:40+00:00         0.000000         neutral  0.000000   \n",
       "2 2022-01-24 02:17:40+00:00        -0.903788        negative -0.903788   \n",
       "3 2022-01-24 02:17:39+00:00        -0.488388        negative -0.488388   \n",
       "4 2022-01-24 02:17:39+00:00        -0.752188        negative  0.000000   \n",
       "5 2022-01-24 02:17:39+00:00         0.532432        positive  0.532432   \n",
       "6 2022-01-24 02:17:39+00:00        -0.961629        negative -0.961629   \n",
       "7 2022-01-24 02:17:39+00:00         0.388700        positive  0.388700   \n",
       "8 2022-01-24 02:17:39+00:00         0.000000         neutral  0.000000   \n",
       "9 2022-01-24 02:17:39+00:00         0.000000         neutral  0.000000   \n",
       "\n",
       "      Label  \n",
       "0  negative  \n",
       "1   neutral  \n",
       "2  negative  \n",
       "3  negative  \n",
       "4   neutral  \n",
       "5  positive  \n",
       "6  negative  \n",
       "7  positive  \n",
       "8   neutral  \n",
       "9   neutral  "
      ]
     },
     "execution_count": 21,
     "metadata": {},
     "output_type": "execute_result"
    }
   ],
   "source": [
    "df_analise.head(20)"
   ]
  },
  {
   "cell_type": "markdown",
   "metadata": {},
   "source": [
    "Para uma melhor analise dos tweets é recomendado uma limpeza no texto."
   ]
  }
 ],
 "metadata": {
  "kernelspec": {
   "display_name": "Python 3",
   "language": "python",
   "name": "python3"
  },
  "language_info": {
   "codemirror_mode": {
    "name": "ipython",
    "version": 3
   },
   "file_extension": ".py",
   "mimetype": "text/x-python",
   "name": "python",
   "nbconvert_exporter": "python",
   "pygments_lexer": "ipython3",
   "version": "3.8.12"
  }
 },
 "nbformat": 4,
 "nbformat_minor": 0
}
